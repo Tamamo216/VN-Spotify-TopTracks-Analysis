{
 "cells": [
  {
   "attachments": {},
   "cell_type": "markdown",
   "metadata": {},
   "source": [
    "## Thêm thư viện cần thiết"
   ]
  },
  {
   "cell_type": "code",
   "execution_count": 1,
   "metadata": {},
   "outputs": [],
   "source": [
    "%matplotlib inline\n",
    "import pandas as pd\n",
    "import numpy as np\n",
    "import os\n",
    "from pathlib import Path\n",
    "from ast import literal_eval\n",
    "import seaborn as sns\n",
    "import matplotlib.pyplot as plt"
   ]
  },
  {
   "attachments": {},
   "cell_type": "markdown",
   "metadata": {},
   "source": [
    "## Load dữ liệu vào Dataframe"
   ]
  },
  {
   "cell_type": "code",
   "execution_count": 2,
   "metadata": {},
   "outputs": [
    {
     "data": {
      "text/html": [
       "<div>\n",
       "<style scoped>\n",
       "    .dataframe tbody tr th:only-of-type {\n",
       "        vertical-align: middle;\n",
       "    }\n",
       "\n",
       "    .dataframe tbody tr th {\n",
       "        vertical-align: top;\n",
       "    }\n",
       "\n",
       "    .dataframe thead th {\n",
       "        text-align: right;\n",
       "    }\n",
       "</style>\n",
       "<table border=\"1\" class=\"dataframe\">\n",
       "  <thead>\n",
       "    <tr style=\"text-align: right;\">\n",
       "      <th></th>\n",
       "      <th>id</th>\n",
       "      <th>name</th>\n",
       "      <th>artist</th>\n",
       "      <th>artist_followers</th>\n",
       "      <th>artist_genres</th>\n",
       "      <th>album</th>\n",
       "      <th>release_date</th>\n",
       "      <th>album_total_tracks</th>\n",
       "      <th>duration</th>\n",
       "      <th>explicit</th>\n",
       "      <th>popularity</th>\n",
       "    </tr>\n",
       "  </thead>\n",
       "  <tbody>\n",
       "    <tr>\n",
       "      <th>0</th>\n",
       "      <td>0eAWyR4wHynLdc9A0VTVQP</td>\n",
       "      <td>Lửng Lơ - Remix</td>\n",
       "      <td>IOF Viet Nam</td>\n",
       "      <td>100</td>\n",
       "      <td>[]</td>\n",
       "      <td>Lửng Lơ (Remix)</td>\n",
       "      <td>2022-07-07</td>\n",
       "      <td>1</td>\n",
       "      <td>258194</td>\n",
       "      <td>False</td>\n",
       "      <td>25</td>\n",
       "    </tr>\n",
       "    <tr>\n",
       "      <th>1</th>\n",
       "      <td>5iN9Ok2bsAE2lCBVEx9L1U</td>\n",
       "      <td>Cheri Cheri Lady - Remix</td>\n",
       "      <td>IOF Viet Nam</td>\n",
       "      <td>100</td>\n",
       "      <td>[]</td>\n",
       "      <td>Cheri Cheri Lady (Remix)</td>\n",
       "      <td>2022-07-07</td>\n",
       "      <td>1</td>\n",
       "      <td>193073</td>\n",
       "      <td>False</td>\n",
       "      <td>24</td>\n",
       "    </tr>\n",
       "    <tr>\n",
       "      <th>2</th>\n",
       "      <td>0NIjRHPH7vq56ZaEgfk1DD</td>\n",
       "      <td>Ngày Chưa Giông Bão - Remix</td>\n",
       "      <td>IOF Viet Nam</td>\n",
       "      <td>100</td>\n",
       "      <td>[]</td>\n",
       "      <td>Ngày Chưa Giông Bão (Remix)</td>\n",
       "      <td>2022-06-29</td>\n",
       "      <td>1</td>\n",
       "      <td>202659</td>\n",
       "      <td>False</td>\n",
       "      <td>15</td>\n",
       "    </tr>\n",
       "    <tr>\n",
       "      <th>3</th>\n",
       "      <td>5yANdLi61sbT2gBK1jIGVV</td>\n",
       "      <td>Tay Trái Chỉ Trăng - Remix</td>\n",
       "      <td>IOF Viet Nam</td>\n",
       "      <td>100</td>\n",
       "      <td>[]</td>\n",
       "      <td>Tay Trái Chỉ Trăng (Remix)</td>\n",
       "      <td>2022-06-28</td>\n",
       "      <td>1</td>\n",
       "      <td>243880</td>\n",
       "      <td>False</td>\n",
       "      <td>12</td>\n",
       "    </tr>\n",
       "    <tr>\n",
       "      <th>4</th>\n",
       "      <td>2OCkw2aRFHZJ3k9zy07g5x</td>\n",
       "      <td>Xa Vắng - Remix</td>\n",
       "      <td>IOF Viet Nam</td>\n",
       "      <td>100</td>\n",
       "      <td>[]</td>\n",
       "      <td>Xa Vắng (Remix)</td>\n",
       "      <td>2022-07-24</td>\n",
       "      <td>1</td>\n",
       "      <td>142106</td>\n",
       "      <td>False</td>\n",
       "      <td>12</td>\n",
       "    </tr>\n",
       "    <tr>\n",
       "      <th>...</th>\n",
       "      <td>...</td>\n",
       "      <td>...</td>\n",
       "      <td>...</td>\n",
       "      <td>...</td>\n",
       "      <td>...</td>\n",
       "      <td>...</td>\n",
       "      <td>...</td>\n",
       "      <td>...</td>\n",
       "      <td>...</td>\n",
       "      <td>...</td>\n",
       "      <td>...</td>\n",
       "    </tr>\n",
       "    <tr>\n",
       "      <th>1522</th>\n",
       "      <td>33ISD5e3fEp72qV35w1wE8</td>\n",
       "      <td>Hang Nghin Kilomet</td>\n",
       "      <td>hooligan.</td>\n",
       "      <td>31146</td>\n",
       "      <td>['v-pop']</td>\n",
       "      <td>Hang Nghin Kilomet</td>\n",
       "      <td>2020-06-04</td>\n",
       "      <td>1</td>\n",
       "      <td>223644</td>\n",
       "      <td>False</td>\n",
       "      <td>34</td>\n",
       "    </tr>\n",
       "    <tr>\n",
       "      <th>1523</th>\n",
       "      <td>3RHjF3f04LeCgZwZJp50zI</td>\n",
       "      <td>Bai Hat Cho Darling</td>\n",
       "      <td>hooligan.</td>\n",
       "      <td>31146</td>\n",
       "      <td>['v-pop']</td>\n",
       "      <td>Bai Hat Cho Darling</td>\n",
       "      <td>2020-12-17</td>\n",
       "      <td>1</td>\n",
       "      <td>202552</td>\n",
       "      <td>False</td>\n",
       "      <td>22</td>\n",
       "    </tr>\n",
       "    <tr>\n",
       "      <th>1524</th>\n",
       "      <td>4YFEQfiGTDoyRNuJs2wrED</td>\n",
       "      <td>Love You Bae!</td>\n",
       "      <td>hooligan.</td>\n",
       "      <td>31146</td>\n",
       "      <td>['v-pop']</td>\n",
       "      <td>Love You Bae!</td>\n",
       "      <td>2021-04-14</td>\n",
       "      <td>1</td>\n",
       "      <td>203663</td>\n",
       "      <td>False</td>\n",
       "      <td>21</td>\n",
       "    </tr>\n",
       "    <tr>\n",
       "      <th>1525</th>\n",
       "      <td>5CFtSlO2CSCEEVRj8I1rtx</td>\n",
       "      <td>Future Of Us</td>\n",
       "      <td>hooligan.</td>\n",
       "      <td>31146</td>\n",
       "      <td>['v-pop']</td>\n",
       "      <td>Bài Hát Hay Nhất - Big Song Big Deal (Tập 10)</td>\n",
       "      <td>2022-12-04</td>\n",
       "      <td>5</td>\n",
       "      <td>193602</td>\n",
       "      <td>False</td>\n",
       "      <td>17</td>\n",
       "    </tr>\n",
       "    <tr>\n",
       "      <th>1526</th>\n",
       "      <td>69q05eunf40GVaknqu7T11</td>\n",
       "      <td>We Are Heroes</td>\n",
       "      <td>hooligan.</td>\n",
       "      <td>31146</td>\n",
       "      <td>['v-pop']</td>\n",
       "      <td>Bài Hát Hay Nhất - Big Song Big Deal (Tập 15)</td>\n",
       "      <td>2023-01-09</td>\n",
       "      <td>5</td>\n",
       "      <td>213500</td>\n",
       "      <td>False</td>\n",
       "      <td>1</td>\n",
       "    </tr>\n",
       "  </tbody>\n",
       "</table>\n",
       "<p>1527 rows × 11 columns</p>\n",
       "</div>"
      ],
      "text/plain": [
       "                          id                         name        artist  \\\n",
       "0     0eAWyR4wHynLdc9A0VTVQP              Lửng Lơ - Remix  IOF Viet Nam   \n",
       "1     5iN9Ok2bsAE2lCBVEx9L1U     Cheri Cheri Lady - Remix  IOF Viet Nam   \n",
       "2     0NIjRHPH7vq56ZaEgfk1DD  Ngày Chưa Giông Bão - Remix  IOF Viet Nam   \n",
       "3     5yANdLi61sbT2gBK1jIGVV   Tay Trái Chỉ Trăng - Remix  IOF Viet Nam   \n",
       "4     2OCkw2aRFHZJ3k9zy07g5x              Xa Vắng - Remix  IOF Viet Nam   \n",
       "...                      ...                          ...           ...   \n",
       "1522  33ISD5e3fEp72qV35w1wE8           Hang Nghin Kilomet     hooligan.   \n",
       "1523  3RHjF3f04LeCgZwZJp50zI          Bai Hat Cho Darling     hooligan.   \n",
       "1524  4YFEQfiGTDoyRNuJs2wrED                Love You Bae!     hooligan.   \n",
       "1525  5CFtSlO2CSCEEVRj8I1rtx                 Future Of Us     hooligan.   \n",
       "1526  69q05eunf40GVaknqu7T11                We Are Heroes     hooligan.   \n",
       "\n",
       "      artist_followers artist_genres  \\\n",
       "0                  100            []   \n",
       "1                  100            []   \n",
       "2                  100            []   \n",
       "3                  100            []   \n",
       "4                  100            []   \n",
       "...                ...           ...   \n",
       "1522             31146     ['v-pop']   \n",
       "1523             31146     ['v-pop']   \n",
       "1524             31146     ['v-pop']   \n",
       "1525             31146     ['v-pop']   \n",
       "1526             31146     ['v-pop']   \n",
       "\n",
       "                                              album release_date  \\\n",
       "0                                   Lửng Lơ (Remix)   2022-07-07   \n",
       "1                          Cheri Cheri Lady (Remix)   2022-07-07   \n",
       "2                       Ngày Chưa Giông Bão (Remix)   2022-06-29   \n",
       "3                        Tay Trái Chỉ Trăng (Remix)   2022-06-28   \n",
       "4                                   Xa Vắng (Remix)   2022-07-24   \n",
       "...                                             ...          ...   \n",
       "1522                             Hang Nghin Kilomet   2020-06-04   \n",
       "1523                            Bai Hat Cho Darling   2020-12-17   \n",
       "1524                                  Love You Bae!   2021-04-14   \n",
       "1525  Bài Hát Hay Nhất - Big Song Big Deal (Tập 10)   2022-12-04   \n",
       "1526  Bài Hát Hay Nhất - Big Song Big Deal (Tập 15)   2023-01-09   \n",
       "\n",
       "      album_total_tracks  duration  explicit  popularity  \n",
       "0                      1    258194     False          25  \n",
       "1                      1    193073     False          24  \n",
       "2                      1    202659     False          15  \n",
       "3                      1    243880     False          12  \n",
       "4                      1    142106     False          12  \n",
       "...                  ...       ...       ...         ...  \n",
       "1522                   1    223644     False          34  \n",
       "1523                   1    202552     False          22  \n",
       "1524                   1    203663     False          21  \n",
       "1525                   5    193602     False          17  \n",
       "1526                   5    213500     False           1  \n",
       "\n",
       "[1527 rows x 11 columns]"
      ]
     },
     "execution_count": 2,
     "metadata": {},
     "output_type": "execute_result"
    }
   ],
   "source": [
    "raw_data_path = os.path.join(Path(os.getcwd()).parent, 'data', 'raw data', 'top_tracks_by_artist.csv')\n",
    "tracks_df = pd.read_csv(raw_data_path, encoding = 'utf-8')\n",
    "tracks_df"
   ]
  },
  {
   "attachments": {},
   "cell_type": "markdown",
   "metadata": {},
   "source": [
    "## Tổng quan về dữ liệu"
   ]
  },
  {
   "attachments": {},
   "cell_type": "markdown",
   "metadata": {},
   "source": [
    "Số dòng và số cột của tập dữ liệu"
   ]
  },
  {
   "cell_type": "code",
   "execution_count": 3,
   "metadata": {},
   "outputs": [
    {
     "name": "stdout",
     "output_type": "stream",
     "text": [
      "Số dòng: 1527\n",
      "Số cột: 11\n"
     ]
    }
   ],
   "source": [
    "num_rows, num_cols = tracks_df.shape\n",
    "print('Số dòng: {}\\nSố cột: {}'.format(num_rows, num_cols))"
   ]
  },
  {
   "attachments": {},
   "cell_type": "markdown",
   "metadata": {},
   "source": [
    "Kiểu dữ liệu từng cột"
   ]
  },
  {
   "cell_type": "code",
   "execution_count": 4,
   "metadata": {},
   "outputs": [
    {
     "data": {
      "text/plain": [
       "id                    object\n",
       "name                  object\n",
       "artist                object\n",
       "artist_followers       int64\n",
       "artist_genres         object\n",
       "album                 object\n",
       "release_date          object\n",
       "album_total_tracks     int64\n",
       "duration               int64\n",
       "explicit                bool\n",
       "popularity             int64\n",
       "dtype: object"
      ]
     },
     "execution_count": 4,
     "metadata": {},
     "output_type": "execute_result"
    }
   ],
   "source": [
    "tracks_df.dtypes"
   ]
  },
  {
   "attachments": {},
   "cell_type": "markdown",
   "metadata": {},
   "source": [
    "Ý nghĩa của từng cột\n",
    "\n",
    "| Tên cột | Ý nghĩa |\n",
    "| --- | --- |\n",
    "| **id** | ID của bài hát trên Spotify |\n",
    "| **name** | Tên bài hát |\n",
    "| **artist** | Tên nghệ sĩ trình bày |\n",
    "| **artist_followers** | Số followers của nghệ sĩ trên Spotify |\n",
    "| **artist_genres** | Thể loại chủ đạo của nghệ sĩ |\n",
    "| **album** | Tên album mà bài hát thuộc về |\n",
    "| **release_date** | Ngày album phát hành |\n",
    "| **album_total_tracks** | Tổng số bài hát có trong album |\n",
    "| **duration** | Độ dài bài hát (ms) |\n",
    "| **explicit** | Lời nhạc có yếu tố không phù hợp với trẻ em không |\n",
    "| **popularity** | Độ nổi tiếng của bài hát từ thang điểm 0-100 |"
   ]
  },
  {
   "attachments": {},
   "cell_type": "markdown",
   "metadata": {},
   "source": [
    "**Có bài hát nào bị trùng id không ?**"
   ]
  },
  {
   "cell_type": "code",
   "execution_count": 5,
   "metadata": {},
   "outputs": [
    {
     "data": {
      "text/plain": [
       "84"
      ]
     },
     "execution_count": 5,
     "metadata": {},
     "output_type": "execute_result"
    }
   ],
   "source": [
    "tracks_duplicate_count = tracks_df.duplicated(subset = 'id').sum()\n",
    "tracks_duplicate_count"
   ]
  },
  {
   "attachments": {},
   "cell_type": "markdown",
   "metadata": {},
   "source": [
    "Có 84 bài hát bị trùng id. Điều này là do một bài hát có thể được trình bày bởi nhiều nghệ sĩ khác nhau, dẫn đến việc một bài hát có thể thuộc top tracks của nhiều nghệ sĩ."
   ]
  },
  {
   "cell_type": "code",
   "execution_count": 6,
   "metadata": {},
   "outputs": [],
   "source": [
    "def missing_ratio(s):\n",
    "  '''\n",
    "  Calculating the ratio of missing values in a column\n",
    "  input: the column s\n",
    "  output: the ratio of missing value of the s column\n",
    "  '''\n",
    "  return s.isna().mean()*100"
   ]
  },
  {
   "attachments": {},
   "cell_type": "markdown",
   "metadata": {},
   "source": [
    "**Tỉ lệ giá trị thiếu của từng cột**"
   ]
  },
  {
   "cell_type": "code",
   "execution_count": 7,
   "metadata": {},
   "outputs": [
    {
     "data": {
      "text/html": [
       "<div>\n",
       "<style scoped>\n",
       "    .dataframe tbody tr th:only-of-type {\n",
       "        vertical-align: middle;\n",
       "    }\n",
       "\n",
       "    .dataframe tbody tr th {\n",
       "        vertical-align: top;\n",
       "    }\n",
       "\n",
       "    .dataframe thead th {\n",
       "        text-align: right;\n",
       "    }\n",
       "</style>\n",
       "<table border=\"1\" class=\"dataframe\">\n",
       "  <thead>\n",
       "    <tr style=\"text-align: right;\">\n",
       "      <th></th>\n",
       "      <th>missing_ratio</th>\n",
       "    </tr>\n",
       "  </thead>\n",
       "  <tbody>\n",
       "    <tr>\n",
       "      <th>id</th>\n",
       "      <td>0.0</td>\n",
       "    </tr>\n",
       "    <tr>\n",
       "      <th>name</th>\n",
       "      <td>0.0</td>\n",
       "    </tr>\n",
       "    <tr>\n",
       "      <th>artist</th>\n",
       "      <td>0.0</td>\n",
       "    </tr>\n",
       "    <tr>\n",
       "      <th>artist_followers</th>\n",
       "      <td>0.0</td>\n",
       "    </tr>\n",
       "    <tr>\n",
       "      <th>artist_genres</th>\n",
       "      <td>0.0</td>\n",
       "    </tr>\n",
       "    <tr>\n",
       "      <th>album</th>\n",
       "      <td>0.0</td>\n",
       "    </tr>\n",
       "    <tr>\n",
       "      <th>release_date</th>\n",
       "      <td>0.0</td>\n",
       "    </tr>\n",
       "    <tr>\n",
       "      <th>album_total_tracks</th>\n",
       "      <td>0.0</td>\n",
       "    </tr>\n",
       "    <tr>\n",
       "      <th>duration</th>\n",
       "      <td>0.0</td>\n",
       "    </tr>\n",
       "    <tr>\n",
       "      <th>explicit</th>\n",
       "      <td>0.0</td>\n",
       "    </tr>\n",
       "    <tr>\n",
       "      <th>popularity</th>\n",
       "      <td>0.0</td>\n",
       "    </tr>\n",
       "  </tbody>\n",
       "</table>\n",
       "</div>"
      ],
      "text/plain": [
       "                    missing_ratio\n",
       "id                            0.0\n",
       "name                          0.0\n",
       "artist                        0.0\n",
       "artist_followers              0.0\n",
       "artist_genres                 0.0\n",
       "album                         0.0\n",
       "release_date                  0.0\n",
       "album_total_tracks            0.0\n",
       "duration                      0.0\n",
       "explicit                      0.0\n",
       "popularity                    0.0"
      ]
     },
     "execution_count": 7,
     "metadata": {},
     "output_type": "execute_result"
    }
   ],
   "source": [
    "tracks_df.agg(missing_ratio).to_frame(name = 'missing_ratio')"
   ]
  },
  {
   "attachments": {},
   "cell_type": "markdown",
   "metadata": {},
   "source": [
    "Dường như không có cột nào bị thiếu dữ liệu"
   ]
  },
  {
   "attachments": {},
   "cell_type": "markdown",
   "metadata": {},
   "source": [
    "## Chuyển đổi về kiểu dữ liệu phù hợp cho một số cột"
   ]
  },
  {
   "attachments": {},
   "cell_type": "markdown",
   "metadata": {},
   "source": [
    "### Chuyển đổi kiểu dữ liệu của release_date từ object sang datetime"
   ]
  },
  {
   "attachments": {},
   "cell_type": "markdown",
   "metadata": {},
   "source": [
    "Dữ liệu ở cột release_date có hai dạng format là: Y-m-d hoặc Y. Ta sẽ xử lý cả hai trường hợp"
   ]
  },
  {
   "cell_type": "code",
   "execution_count": 8,
   "metadata": {},
   "outputs": [],
   "source": [
    "datatime_col = pd.to_datetime(tracks_df['release_date'], format='%Y-%m-%d', errors=\"coerce\") \\\n",
    "                .fillna( \\\n",
    "                pd.to_datetime(tracks_df['release_date'], format='%Y', errors=\"coerce\"))"
   ]
  },
  {
   "attachments": {},
   "cell_type": "markdown",
   "metadata": {},
   "source": [
    "Những giá trị không thể chuyển đổi sang dạng datetime theo format cho trước sẽ trả về giá trị NaT (Not a Time), tương tự như giá trị NaN"
   ]
  },
  {
   "cell_type": "code",
   "execution_count": 9,
   "metadata": {},
   "outputs": [
    {
     "data": {
      "text/html": [
       "<div>\n",
       "<style scoped>\n",
       "    .dataframe tbody tr th:only-of-type {\n",
       "        vertical-align: middle;\n",
       "    }\n",
       "\n",
       "    .dataframe tbody tr th {\n",
       "        vertical-align: top;\n",
       "    }\n",
       "\n",
       "    .dataframe thead th {\n",
       "        text-align: right;\n",
       "    }\n",
       "</style>\n",
       "<table border=\"1\" class=\"dataframe\">\n",
       "  <thead>\n",
       "    <tr style=\"text-align: right;\">\n",
       "      <th></th>\n",
       "      <th>id</th>\n",
       "      <th>name</th>\n",
       "      <th>artist</th>\n",
       "      <th>artist_followers</th>\n",
       "      <th>artist_genres</th>\n",
       "      <th>album</th>\n",
       "      <th>release_date</th>\n",
       "      <th>album_total_tracks</th>\n",
       "      <th>duration</th>\n",
       "      <th>explicit</th>\n",
       "      <th>popularity</th>\n",
       "    </tr>\n",
       "  </thead>\n",
       "  <tbody>\n",
       "    <tr>\n",
       "      <th>1127</th>\n",
       "      <td>7BSyMiUKDSXdnZ9wTmLPKv</td>\n",
       "      <td>Năm Ấy</td>\n",
       "      <td>Đức Phúc</td>\n",
       "      <td>855538</td>\n",
       "      <td>['v-pop']</td>\n",
       "      <td>Năm Ấy</td>\n",
       "      <td>0000</td>\n",
       "      <td>1</td>\n",
       "      <td>260351</td>\n",
       "      <td>False</td>\n",
       "      <td>47</td>\n",
       "    </tr>\n",
       "  </tbody>\n",
       "</table>\n",
       "</div>"
      ],
      "text/plain": [
       "                          id    name    artist  artist_followers  \\\n",
       "1127  7BSyMiUKDSXdnZ9wTmLPKv  Năm Ấy  Đức Phúc            855538   \n",
       "\n",
       "     artist_genres   album release_date  album_total_tracks  duration  \\\n",
       "1127     ['v-pop']  Năm Ấy         0000                   1    260351   \n",
       "\n",
       "      explicit  popularity  \n",
       "1127     False          47  "
      ]
     },
     "execution_count": 9,
     "metadata": {},
     "output_type": "execute_result"
    }
   ],
   "source": [
    "tracks_df[datatime_col.isna()]"
   ]
  },
  {
   "attachments": {},
   "cell_type": "markdown",
   "metadata": {},
   "source": [
    "Ở dòng 1127, cột release_date có giá trị không hợp lệ là 0000, dẫn đến việc bị trả về NaT. Ta sẽ tiến hành loại bỏ dòng này"
   ]
  },
  {
   "cell_type": "code",
   "execution_count": 10,
   "metadata": {},
   "outputs": [
    {
     "data": {
      "text/plain": [
       "id                    2PZENjHdoBW7u1qLB1Twra\n",
       "name                          Yêu Được Không\n",
       "artist                              Đức Phúc\n",
       "artist_followers                      855538\n",
       "artist_genres                      ['v-pop']\n",
       "album                         Yêu Được Không\n",
       "release_date                            2019\n",
       "album_total_tracks                         1\n",
       "duration                              331755\n",
       "explicit                               False\n",
       "popularity                                44\n",
       "Name: 1127, dtype: object"
      ]
     },
     "execution_count": 10,
     "metadata": {},
     "output_type": "execute_result"
    }
   ],
   "source": [
    "tracks_df = tracks_df.drop(1127).reset_index(drop = True)\n",
    "tracks_df.loc[1127]"
   ]
  },
  {
   "attachments": {},
   "cell_type": "markdown",
   "metadata": {},
   "source": [
    "Gán giá trị đã được chuyển đổi kiểu dữ liệu lên cột release_date"
   ]
  },
  {
   "cell_type": "code",
   "execution_count": 11,
   "metadata": {},
   "outputs": [
    {
     "data": {
      "text/plain": [
       "1125   2022-09-24\n",
       "1126   2016-01-01\n",
       "1128   2019-01-01\n",
       "1129   2022-05-27\n",
       "1130   2022-05-05\n",
       "Name: release_date, dtype: datetime64[ns]"
      ]
     },
     "execution_count": 11,
     "metadata": {},
     "output_type": "execute_result"
    }
   ],
   "source": [
    "test = datatime_col.dropna()\n",
    "test.loc[1125:1130]"
   ]
  },
  {
   "cell_type": "code",
   "execution_count": 12,
   "metadata": {},
   "outputs": [
    {
     "data": {
      "text/plain": [
       "id                            object\n",
       "name                          object\n",
       "artist                        object\n",
       "artist_followers               int64\n",
       "artist_genres                 object\n",
       "album                         object\n",
       "release_date          datetime64[ns]\n",
       "album_total_tracks             int64\n",
       "duration                       int64\n",
       "explicit                        bool\n",
       "popularity                     int64\n",
       "dtype: object"
      ]
     },
     "execution_count": 12,
     "metadata": {},
     "output_type": "execute_result"
    }
   ],
   "source": [
    "tracks_df.loc[:, 'release_date'] = datatime_col.dropna().reset_index()\n",
    "tracks_df.dtypes"
   ]
  },
  {
   "attachments": {},
   "cell_type": "markdown",
   "metadata": {},
   "source": [
    "### Chuyển đổi đơn vị độ dài bài hát từ milisecond sang second"
   ]
  },
  {
   "cell_type": "code",
   "execution_count": 13,
   "metadata": {},
   "outputs": [
    {
     "data": {
      "text/html": [
       "<div>\n",
       "<style scoped>\n",
       "    .dataframe tbody tr th:only-of-type {\n",
       "        vertical-align: middle;\n",
       "    }\n",
       "\n",
       "    .dataframe tbody tr th {\n",
       "        vertical-align: top;\n",
       "    }\n",
       "\n",
       "    .dataframe thead th {\n",
       "        text-align: right;\n",
       "    }\n",
       "</style>\n",
       "<table border=\"1\" class=\"dataframe\">\n",
       "  <thead>\n",
       "    <tr style=\"text-align: right;\">\n",
       "      <th></th>\n",
       "      <th>id</th>\n",
       "      <th>name</th>\n",
       "      <th>artist</th>\n",
       "      <th>artist_followers</th>\n",
       "      <th>artist_genres</th>\n",
       "      <th>album</th>\n",
       "      <th>release_date</th>\n",
       "      <th>album_total_tracks</th>\n",
       "      <th>duration</th>\n",
       "      <th>explicit</th>\n",
       "      <th>popularity</th>\n",
       "    </tr>\n",
       "  </thead>\n",
       "  <tbody>\n",
       "    <tr>\n",
       "      <th>0</th>\n",
       "      <td>0eAWyR4wHynLdc9A0VTVQP</td>\n",
       "      <td>Lửng Lơ - Remix</td>\n",
       "      <td>IOF Viet Nam</td>\n",
       "      <td>100</td>\n",
       "      <td>[]</td>\n",
       "      <td>Lửng Lơ (Remix)</td>\n",
       "      <td>2022-07-07</td>\n",
       "      <td>1</td>\n",
       "      <td>258</td>\n",
       "      <td>False</td>\n",
       "      <td>25</td>\n",
       "    </tr>\n",
       "    <tr>\n",
       "      <th>1</th>\n",
       "      <td>5iN9Ok2bsAE2lCBVEx9L1U</td>\n",
       "      <td>Cheri Cheri Lady - Remix</td>\n",
       "      <td>IOF Viet Nam</td>\n",
       "      <td>100</td>\n",
       "      <td>[]</td>\n",
       "      <td>Cheri Cheri Lady (Remix)</td>\n",
       "      <td>2022-07-07</td>\n",
       "      <td>1</td>\n",
       "      <td>193</td>\n",
       "      <td>False</td>\n",
       "      <td>24</td>\n",
       "    </tr>\n",
       "    <tr>\n",
       "      <th>2</th>\n",
       "      <td>0NIjRHPH7vq56ZaEgfk1DD</td>\n",
       "      <td>Ngày Chưa Giông Bão - Remix</td>\n",
       "      <td>IOF Viet Nam</td>\n",
       "      <td>100</td>\n",
       "      <td>[]</td>\n",
       "      <td>Ngày Chưa Giông Bão (Remix)</td>\n",
       "      <td>2022-06-29</td>\n",
       "      <td>1</td>\n",
       "      <td>202</td>\n",
       "      <td>False</td>\n",
       "      <td>15</td>\n",
       "    </tr>\n",
       "    <tr>\n",
       "      <th>3</th>\n",
       "      <td>5yANdLi61sbT2gBK1jIGVV</td>\n",
       "      <td>Tay Trái Chỉ Trăng - Remix</td>\n",
       "      <td>IOF Viet Nam</td>\n",
       "      <td>100</td>\n",
       "      <td>[]</td>\n",
       "      <td>Tay Trái Chỉ Trăng (Remix)</td>\n",
       "      <td>2022-06-28</td>\n",
       "      <td>1</td>\n",
       "      <td>243</td>\n",
       "      <td>False</td>\n",
       "      <td>12</td>\n",
       "    </tr>\n",
       "    <tr>\n",
       "      <th>4</th>\n",
       "      <td>2OCkw2aRFHZJ3k9zy07g5x</td>\n",
       "      <td>Xa Vắng - Remix</td>\n",
       "      <td>IOF Viet Nam</td>\n",
       "      <td>100</td>\n",
       "      <td>[]</td>\n",
       "      <td>Xa Vắng (Remix)</td>\n",
       "      <td>2022-07-24</td>\n",
       "      <td>1</td>\n",
       "      <td>142</td>\n",
       "      <td>False</td>\n",
       "      <td>12</td>\n",
       "    </tr>\n",
       "  </tbody>\n",
       "</table>\n",
       "</div>"
      ],
      "text/plain": [
       "                       id                         name        artist  \\\n",
       "0  0eAWyR4wHynLdc9A0VTVQP              Lửng Lơ - Remix  IOF Viet Nam   \n",
       "1  5iN9Ok2bsAE2lCBVEx9L1U     Cheri Cheri Lady - Remix  IOF Viet Nam   \n",
       "2  0NIjRHPH7vq56ZaEgfk1DD  Ngày Chưa Giông Bão - Remix  IOF Viet Nam   \n",
       "3  5yANdLi61sbT2gBK1jIGVV   Tay Trái Chỉ Trăng - Remix  IOF Viet Nam   \n",
       "4  2OCkw2aRFHZJ3k9zy07g5x              Xa Vắng - Remix  IOF Viet Nam   \n",
       "\n",
       "   artist_followers artist_genres                        album release_date  \\\n",
       "0               100            []              Lửng Lơ (Remix)   2022-07-07   \n",
       "1               100            []     Cheri Cheri Lady (Remix)   2022-07-07   \n",
       "2               100            []  Ngày Chưa Giông Bão (Remix)   2022-06-29   \n",
       "3               100            []   Tay Trái Chỉ Trăng (Remix)   2022-06-28   \n",
       "4               100            []              Xa Vắng (Remix)   2022-07-24   \n",
       "\n",
       "   album_total_tracks  duration  explicit  popularity  \n",
       "0                   1       258     False          25  \n",
       "1                   1       193     False          24  \n",
       "2                   1       202     False          15  \n",
       "3                   1       243     False          12  \n",
       "4                   1       142     False          12  "
      ]
     },
     "execution_count": 13,
     "metadata": {},
     "output_type": "execute_result"
    }
   ],
   "source": [
    "tracks_df.loc[:, 'duration'] = tracks_df['duration'].apply(lambda x : x//1000)\n",
    "tracks_df.head(5)"
   ]
  },
  {
   "attachments": {},
   "cell_type": "markdown",
   "metadata": {},
   "source": [
    "## Khám phá sâu hơn về dữ liệu"
   ]
  },
  {
   "attachments": {},
   "cell_type": "markdown",
   "metadata": {},
   "source": [
    "**Top 10 nghệ sĩ Việt Nam có số lượng followers trên Spotify cao nhất**"
   ]
  },
  {
   "cell_type": "code",
   "execution_count": 14,
   "metadata": {},
   "outputs": [
    {
     "data": {
      "text/plain": [
       "Text(0.5, 1.0, 'Top 10 nghệ sĩ Việt Nam có số lượng followers trên Spotify cao nhất')"
      ]
     },
     "execution_count": 14,
     "metadata": {},
     "output_type": "execute_result"
    },
    {
     "data": {
      "image/png": "[encoded data removed]",
      "text/plain": [
       "<Figure size 432x288 with 1 Axes>"
      ]
     },
     "metadata": {
      "needs_background": "light"
     },
     "output_type": "display_data"
    }
   ],
   "source": [
    "sorted_df = tracks_df.sort_values(by = 'artist_followers', ascending = False)\n",
    "sorted_df = sorted_df.drop_duplicates(subset = 'artist')[['artist', 'artist_followers']]\n",
    "ax = sns.barplot(sorted_df.head(10), x = 'artist_followers', y = 'artist')\n",
    "ax.set_xlabel('Số lượng followers')\n",
    "ax.set_ylabel('Nghệ sĩ')\n",
    "ax.set_title('Top 10 nghệ sĩ Việt Nam có số lượng followers trên Spotify cao nhất')"
   ]
  },
  {
   "attachments": {},
   "cell_type": "markdown",
   "metadata": {},
   "source": [
    "Ở đây xuất hiện một lỗi nhỏ khi mà Kygo - 1 DJ nổi tiếng người Nauy, lại nằm trong danh sách chỉ gồm các nghệ sĩ Việt Nam."
   ]
  },
  {
   "attachments": {},
   "cell_type": "markdown",
   "metadata": {},
   "source": [
    "Ta sẽ tiến hành lọc đi các bài hát thuộc về Céline Dion khỏi tập dữ liệu."
   ]
  },
  {
   "cell_type": "code",
   "execution_count": 15,
   "metadata": {},
   "outputs": [
    {
     "data": {
      "text/plain": [
       "Text(0.5, 1.0, 'Top 10 nghệ sĩ Việt Nam có số lượng followers trên Spotify cao nhất')"
      ]
     },
     "execution_count": 15,
     "metadata": {},
     "output_type": "execute_result"
    },
    {
     "data": {
      "image/png": "[encoded data removed]",
      "text/plain": [
       "<Figure size 432x288 with 1 Axes>"
      ]
     },
     "metadata": {
      "needs_background": "light"
     },
     "output_type": "display_data"
    }
   ],
   "source": [
    "tracks_df = tracks_df[tracks_df['artist'] != 'Kygo']\n",
    "sorted_df = tracks_df.sort_values(by = 'artist_followers', ascending = False)\n",
    "sorted_df = sorted_df.drop_duplicates(subset = 'artist')[['artist', 'artist_followers']]\n",
    "ax = sns.barplot(sorted_df.head(10), x = 'artist_followers', y = 'artist')\n",
    "ax.set_xlabel('Số lượng followers')\n",
    "ax.set_ylabel('Nghệ sĩ')\n",
    "ax.set_title('Top 10 nghệ sĩ Việt Nam có số lượng followers trên Spotify cao nhất')"
   ]
  },
  {
   "attachments": {},
   "cell_type": "markdown",
   "metadata": {},
   "source": [
    "**Top các bài hát có độ dài lớn nhất**"
   ]
  },
  {
   "cell_type": "code",
   "execution_count": 16,
   "metadata": {},
   "outputs": [
    {
     "data": {
      "text/html": [
       "<div>\n",
       "<style scoped>\n",
       "    .dataframe tbody tr th:only-of-type {\n",
       "        vertical-align: middle;\n",
       "    }\n",
       "\n",
       "    .dataframe tbody tr th {\n",
       "        vertical-align: top;\n",
       "    }\n",
       "\n",
       "    .dataframe thead th {\n",
       "        text-align: right;\n",
       "    }\n",
       "</style>\n",
       "<table border=\"1\" class=\"dataframe\">\n",
       "  <thead>\n",
       "    <tr style=\"text-align: right;\">\n",
       "      <th></th>\n",
       "      <th>id</th>\n",
       "      <th>name</th>\n",
       "      <th>duration</th>\n",
       "    </tr>\n",
       "  </thead>\n",
       "  <tbody>\n",
       "    <tr>\n",
       "      <th>0</th>\n",
       "      <td>24Xc0WonMsVrvp6UpDczkV</td>\n",
       "      <td>Bi Trường Kịch Lá Sầu Riêng</td>\n",
       "      <td>5171</td>\n",
       "    </tr>\n",
       "    <tr>\n",
       "      <th>1</th>\n",
       "      <td>1fIHuxhPOEMeJg4L668YkI</td>\n",
       "      <td>04 - Ngoai troi giong bao (Minh Canh-Minh Chi-...</td>\n",
       "      <td>754</td>\n",
       "    </tr>\n",
       "    <tr>\n",
       "      <th>2</th>\n",
       "      <td>1TPQApxiS5nzKdleTnU1L1</td>\n",
       "      <td>Trích Đoạn Máu Nhuộm Sân Chùa</td>\n",
       "      <td>698</td>\n",
       "    </tr>\n",
       "    <tr>\n",
       "      <th>3</th>\n",
       "      <td>6JEJawcNecNh6W1fb4a6qE</td>\n",
       "      <td>Tân Cổ Con Đò Lỡ Hẹn</td>\n",
       "      <td>557</td>\n",
       "    </tr>\n",
       "    <tr>\n",
       "      <th>4</th>\n",
       "      <td>5k0wsqLadgNbxv5nNl0tlb</td>\n",
       "      <td>Tân Cổ Buồn Trong Kỷ Niệm</td>\n",
       "      <td>556</td>\n",
       "    </tr>\n",
       "    <tr>\n",
       "      <th>5</th>\n",
       "      <td>2ePBZnZ9I824PlUdRYxWzA</td>\n",
       "      <td>Rapcoustic 5</td>\n",
       "      <td>547</td>\n",
       "    </tr>\n",
       "    <tr>\n",
       "      <th>6</th>\n",
       "      <td>2ePBZnZ9I824PlUdRYxWzA</td>\n",
       "      <td>Rapcoustic 5</td>\n",
       "      <td>547</td>\n",
       "    </tr>\n",
       "    <tr>\n",
       "      <th>7</th>\n",
       "      <td>0eRW4f7LcCabJp4fX0fQC9</td>\n",
       "      <td>Tân Cổ Chim Trắng Mồ Côi</td>\n",
       "      <td>538</td>\n",
       "    </tr>\n",
       "    <tr>\n",
       "      <th>8</th>\n",
       "      <td>1hUBB3bgU0p0FWmU2T7EUg</td>\n",
       "      <td>Sống Cho Hết Đời Thanh Xuân 2</td>\n",
       "      <td>532</td>\n",
       "    </tr>\n",
       "    <tr>\n",
       "      <th>9</th>\n",
       "      <td>0W5IsXzhv7l690pNXLQFeM</td>\n",
       "      <td>Tân Cổ Sao Út Nỡ Vội Lấy Chồng</td>\n",
       "      <td>529</td>\n",
       "    </tr>\n",
       "  </tbody>\n",
       "</table>\n",
       "</div>"
      ],
      "text/plain": [
       "                       id                                               name  \\\n",
       "0  24Xc0WonMsVrvp6UpDczkV                        Bi Trường Kịch Lá Sầu Riêng   \n",
       "1  1fIHuxhPOEMeJg4L668YkI  04 - Ngoai troi giong bao (Minh Canh-Minh Chi-...   \n",
       "2  1TPQApxiS5nzKdleTnU1L1                      Trích Đoạn Máu Nhuộm Sân Chùa   \n",
       "3  6JEJawcNecNh6W1fb4a6qE                               Tân Cổ Con Đò Lỡ Hẹn   \n",
       "4  5k0wsqLadgNbxv5nNl0tlb                          Tân Cổ Buồn Trong Kỷ Niệm   \n",
       "5  2ePBZnZ9I824PlUdRYxWzA                                       Rapcoustic 5   \n",
       "6  2ePBZnZ9I824PlUdRYxWzA                                       Rapcoustic 5   \n",
       "7  0eRW4f7LcCabJp4fX0fQC9                           Tân Cổ Chim Trắng Mồ Côi   \n",
       "8  1hUBB3bgU0p0FWmU2T7EUg                      Sống Cho Hết Đời Thanh Xuân 2   \n",
       "9  0W5IsXzhv7l690pNXLQFeM                     Tân Cổ Sao Út Nỡ Vội Lấy Chồng   \n",
       "\n",
       "   duration  \n",
       "0      5171  \n",
       "1       754  \n",
       "2       698  \n",
       "3       557  \n",
       "4       556  \n",
       "5       547  \n",
       "6       547  \n",
       "7       538  \n",
       "8       532  \n",
       "9       529  "
      ]
     },
     "execution_count": 16,
     "metadata": {},
     "output_type": "execute_result"
    }
   ],
   "source": [
    "tracks_df.sort_values(by = 'duration', ascending = False).head(10)[['id', 'name', 'duration']].reset_index(drop = True)"
   ]
  },
  {
   "attachments": {},
   "cell_type": "markdown",
   "metadata": {},
   "source": [
    "Bài hát có độ dài lớn nhất lên đến 5171 giây, tương đương với khoảng 86 phút, lớn hơn rất nhiều lần so với bài hát đứng thứ hai là 754 giây. Ta xem đây là một outlier và tiến hành loại bỏ bài hát trên để thuận tiện cho việc trực quan sau này."
   ]
  },
  {
   "cell_type": "code",
   "execution_count": 17,
   "metadata": {},
   "outputs": [],
   "source": [
    "tracks_df = tracks_df[tracks_df['duration'] != 5171]"
   ]
  },
  {
   "attachments": {},
   "cell_type": "markdown",
   "metadata": {},
   "source": [
    "### Bảng thống kê dữ liệu cơ bản của các cột numeric"
   ]
  },
  {
   "cell_type": "code",
   "execution_count": 18,
   "metadata": {},
   "outputs": [
    {
     "data": {
      "text/html": [
       "<div>\n",
       "<style scoped>\n",
       "    .dataframe tbody tr th:only-of-type {\n",
       "        vertical-align: middle;\n",
       "    }\n",
       "\n",
       "    .dataframe tbody tr th {\n",
       "        vertical-align: top;\n",
       "    }\n",
       "\n",
       "    .dataframe thead th {\n",
       "        text-align: right;\n",
       "    }\n",
       "</style>\n",
       "<table border=\"1\" class=\"dataframe\">\n",
       "  <thead>\n",
       "    <tr style=\"text-align: right;\">\n",
       "      <th></th>\n",
       "      <th>artist_followers</th>\n",
       "      <th>album_total_tracks</th>\n",
       "      <th>duration</th>\n",
       "      <th>popularity</th>\n",
       "    </tr>\n",
       "  </thead>\n",
       "  <tbody>\n",
       "    <tr>\n",
       "      <th>count</th>\n",
       "      <td>1515.00</td>\n",
       "      <td>1515.00</td>\n",
       "      <td>1515.00</td>\n",
       "      <td>1515.00</td>\n",
       "    </tr>\n",
       "    <tr>\n",
       "      <th>mean</th>\n",
       "      <td>218229.63</td>\n",
       "      <td>3.79</td>\n",
       "      <td>237.91</td>\n",
       "      <td>33.93</td>\n",
       "    </tr>\n",
       "    <tr>\n",
       "      <th>std</th>\n",
       "      <td>462640.11</td>\n",
       "      <td>5.70</td>\n",
       "      <td>62.18</td>\n",
       "      <td>16.24</td>\n",
       "    </tr>\n",
       "    <tr>\n",
       "      <th>min</th>\n",
       "      <td>0.00</td>\n",
       "      <td>1.00</td>\n",
       "      <td>13.00</td>\n",
       "      <td>0.00</td>\n",
       "    </tr>\n",
       "    <tr>\n",
       "      <th>25%</th>\n",
       "      <td>3295.00</td>\n",
       "      <td>1.00</td>\n",
       "      <td>202.00</td>\n",
       "      <td>24.00</td>\n",
       "    </tr>\n",
       "    <tr>\n",
       "      <th>50%</th>\n",
       "      <td>51515.00</td>\n",
       "      <td>1.00</td>\n",
       "      <td>231.00</td>\n",
       "      <td>36.00</td>\n",
       "    </tr>\n",
       "    <tr>\n",
       "      <th>75%</th>\n",
       "      <td>248236.00</td>\n",
       "      <td>5.00</td>\n",
       "      <td>268.00</td>\n",
       "      <td>46.00</td>\n",
       "    </tr>\n",
       "    <tr>\n",
       "      <th>max</th>\n",
       "      <td>3963681.00</td>\n",
       "      <td>103.00</td>\n",
       "      <td>754.00</td>\n",
       "      <td>72.00</td>\n",
       "    </tr>\n",
       "  </tbody>\n",
       "</table>\n",
       "</div>"
      ],
      "text/plain": [
       "       artist_followers  album_total_tracks  duration  popularity\n",
       "count           1515.00             1515.00   1515.00     1515.00\n",
       "mean          218229.63                3.79    237.91       33.93\n",
       "std           462640.11                5.70     62.18       16.24\n",
       "min                0.00                1.00     13.00        0.00\n",
       "25%             3295.00                1.00    202.00       24.00\n",
       "50%            51515.00                1.00    231.00       36.00\n",
       "75%           248236.00                5.00    268.00       46.00\n",
       "max          3963681.00              103.00    754.00       72.00"
      ]
     },
     "execution_count": 18,
     "metadata": {},
     "output_type": "execute_result"
    }
   ],
   "source": [
    "numeric_df = tracks_df.select_dtypes(include = 'number')\n",
    "numeric_df.describe().round(2)"
   ]
  },
  {
   "attachments": {},
   "cell_type": "markdown",
   "metadata": {},
   "source": [
    "Boxplot thể hiện sự phân bố của dữ liệu ở các cột numeric"
   ]
  },
  {
   "cell_type": "code",
   "execution_count": 19,
   "metadata": {},
   "outputs": [
    {
     "data": {
      "image/png": "[encoded data removed]",
      "text/plain": [
       "<Figure size 1152x648 with 4 Axes>"
      ]
     },
     "metadata": {
      "needs_background": "light"
     },
     "output_type": "display_data"
    }
   ],
   "source": [
    "\n",
    "subplot_label = {\n",
    "  'artist_followers' : 'số lượng followers',\n",
    "  'album_total_tracks' : 'tổng số bài hát trong album',\n",
    "  'duration' : 'độ dài bài hát (giây)',\n",
    "  'popularity' : 'độ nổi tiếng của bài hát'\n",
    "  }\n",
    "fig,axes = plt.subplots(2,2,figsize = (16,9))\n",
    "for ax, key in zip(axes.flat, list(subplot_label.keys())):\n",
    "  sns.boxplot(numeric_df, x = key, ax = ax)\n",
    "  ax.set_xlabel(subplot_label[key])"
   ]
  },
  {
   "attachments": {},
   "cell_type": "markdown",
   "metadata": {},
   "source": [
    "### Bảng thống kê dữ liệu cơ bản cho các cột categorical"
   ]
  },
  {
   "cell_type": "code",
   "execution_count": 20,
   "metadata": {},
   "outputs": [
    {
     "data": {
      "text/html": [
       "<div>\n",
       "<style scoped>\n",
       "    .dataframe tbody tr th:only-of-type {\n",
       "        vertical-align: middle;\n",
       "    }\n",
       "\n",
       "    .dataframe tbody tr th {\n",
       "        vertical-align: top;\n",
       "    }\n",
       "\n",
       "    .dataframe thead th {\n",
       "        text-align: right;\n",
       "    }\n",
       "</style>\n",
       "<table border=\"1\" class=\"dataframe\">\n",
       "  <thead>\n",
       "    <tr style=\"text-align: right;\">\n",
       "      <th></th>\n",
       "      <th>name</th>\n",
       "      <th>artist</th>\n",
       "      <th>artist_genres</th>\n",
       "      <th>album</th>\n",
       "    </tr>\n",
       "  </thead>\n",
       "  <tbody>\n",
       "    <tr>\n",
       "      <th>count</th>\n",
       "      <td>1515</td>\n",
       "      <td>1515</td>\n",
       "      <td>1515</td>\n",
       "      <td>1515</td>\n",
       "    </tr>\n",
       "    <tr>\n",
       "      <th>unique</th>\n",
       "      <td>1391</td>\n",
       "      <td>173</td>\n",
       "      <td>35</td>\n",
       "      <td>1172</td>\n",
       "    </tr>\n",
       "    <tr>\n",
       "      <th>top</th>\n",
       "      <td>có hẹn với thanh xuân</td>\n",
       "      <td>ERIK</td>\n",
       "      <td>['v-pop']</td>\n",
       "      <td>Ca nguyện Tri ân (40 Năm Hồng Ân)</td>\n",
       "    </tr>\n",
       "    <tr>\n",
       "      <th>freq</th>\n",
       "      <td>4</td>\n",
       "      <td>10</td>\n",
       "      <td>434</td>\n",
       "      <td>10</td>\n",
       "    </tr>\n",
       "  </tbody>\n",
       "</table>\n",
       "</div>"
      ],
      "text/plain": [
       "                         name artist artist_genres  \\\n",
       "count                    1515   1515          1515   \n",
       "unique                   1391    173            35   \n",
       "top     có hẹn với thanh xuân   ERIK     ['v-pop']   \n",
       "freq                        4     10           434   \n",
       "\n",
       "                                    album  \n",
       "count                                1515  \n",
       "unique                               1172  \n",
       "top     Ca nguyện Tri ân (40 Năm Hồng Ân)  \n",
       "freq                                   10  "
      ]
     },
     "execution_count": 20,
     "metadata": {},
     "output_type": "execute_result"
    }
   ],
   "source": [
    "cate_df = tracks_df.select_dtypes(include = 'object').drop(columns = 'id')\n",
    "cate_df.describe()"
   ]
  },
  {
   "attachments": {},
   "cell_type": "markdown",
   "metadata": {},
   "source": [
    "## Lưu lại dữ liệu đã qua xử lý "
   ]
  },
  {
   "cell_type": "code",
   "execution_count": 21,
   "metadata": {},
   "outputs": [],
   "source": [
    "cleaned_data_path = os.path.join(Path(os.getcwd()).parent, 'data', 'cleaned data', 'top_tracks_by_artist_cleaned.csv')\n",
    "tracks_df.to_csv(cleaned_data_path, encoding = 'utf-8', index = False)"
   ]
  }
 ],
 "metadata": {
  "kernelspec": {
   "display_name": "Python 3",
   "language": "python",
   "name": "python3"
  },
  "language_info": {
   "codemirror_mode": {
    "name": "ipython",
    "version": 3
   },
   "file_extension": ".py",
   "mimetype": "text/x-python",
   "name": "python",
   "nbconvert_exporter": "python",
   "pygments_lexer": "ipython3",
   "version": "3.10.1"
  },
  "orig_nbformat": 4,
  "vscode": {
   "interpreter": {
    "hash": "2469a70536e4d2335a2ea8907942d0699c37342a371ac185bdb5b0aa6f073890"
   }
  }
 },
 "nbformat": 4,
 "nbformat_minor": 2
}
